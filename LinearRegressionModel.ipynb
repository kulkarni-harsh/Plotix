{
  "nbformat": 4,
  "nbformat_minor": 0,
  "metadata": {
    "colab": {
      "name": "LinearRegressionModel.ipynb",
      "provenance": [],
      "authorship_tag": "ABX9TyPZYTAErTHVN7OJFKeDz7Ia",
      "include_colab_link": true
    },
    "kernelspec": {
      "name": "python3",
      "display_name": "Python 3"
    },
    "language_info": {
      "name": "python"
    }
  },
  "cells": [
    {
      "cell_type": "markdown",
      "metadata": {
        "id": "view-in-github",
        "colab_type": "text"
      },
      "source": [
        "<a href=\"https://colab.research.google.com/github/kulkarni-harsh/Plotix/blob/main/LinearRegressionModel.ipynb\" target=\"_parent\"><img src=\"https://colab.research.google.com/assets/colab-badge.svg\" alt=\"Open In Colab\"/></a>"
      ]
    },
    {
      "cell_type": "code",
      "metadata": {
        "id": "9iWDK9ZkpVVj"
      },
      "source": [
        "\n"
      ],
      "execution_count": 26,
      "outputs": []
    },
    {
      "cell_type": "code",
      "metadata": {
        "colab": {
          "base_uri": "https://localhost:8080/"
        },
        "id": "HgA5-CeHtw3T",
        "outputId": "f7310c12-950d-4b98-c60e-5ef2a95f1a1d"
      },
      "source": [
        "import pandas as pd\n",
        "import io\n",
        "  \n",
        "df = pd.read_csv(io.BytesIO(uploaded['student-mat.csv']),sep=';')\n",
        "print(df)"
      ],
      "execution_count": 27,
      "outputs": [
        {
          "output_type": "stream",
          "text": [
            "    school sex  age address famsize Pstatus  ...  Walc  health absences  G1  G2  G3\n",
            "0       GP   F   18       U     GT3       A  ...     1       3        6   5   6   6\n",
            "1       GP   F   17       U     GT3       T  ...     1       3        4   5   5   6\n",
            "2       GP   F   15       U     LE3       T  ...     3       3       10   7   8  10\n",
            "3       GP   F   15       U     GT3       T  ...     1       5        2  15  14  15\n",
            "4       GP   F   16       U     GT3       T  ...     2       5        4   6  10  10\n",
            "..     ...  ..  ...     ...     ...     ...  ...   ...     ...      ...  ..  ..  ..\n",
            "390     MS   M   20       U     LE3       A  ...     5       4       11   9   9   9\n",
            "391     MS   M   17       U     LE3       T  ...     4       2        3  14  16  16\n",
            "392     MS   M   21       R     GT3       T  ...     3       3        3  10   8   7\n",
            "393     MS   M   18       R     LE3       T  ...     4       5        0  11  12  10\n",
            "394     MS   M   19       U     LE3       T  ...     3       5        5   8   9   9\n",
            "\n",
            "[395 rows x 33 columns]\n"
          ],
          "name": "stdout"
        }
      ]
    },
    {
      "cell_type": "code",
      "metadata": {
        "colab": {
          "base_uri": "https://localhost:8080/"
        },
        "id": "ckYUjFquuSgO",
        "outputId": "9ebeeaba-adce-415a-dd1d-eb02c5220088"
      },
      "source": [
        "print(df.head)"
      ],
      "execution_count": 28,
      "outputs": [
        {
          "output_type": "stream",
          "text": [
            "<bound method NDFrame.head of     school sex  age address famsize Pstatus  ...  Walc  health absences  G1  G2  G3\n",
            "0       GP   F   18       U     GT3       A  ...     1       3        6   5   6   6\n",
            "1       GP   F   17       U     GT3       T  ...     1       3        4   5   5   6\n",
            "2       GP   F   15       U     LE3       T  ...     3       3       10   7   8  10\n",
            "3       GP   F   15       U     GT3       T  ...     1       5        2  15  14  15\n",
            "4       GP   F   16       U     GT3       T  ...     2       5        4   6  10  10\n",
            "..     ...  ..  ...     ...     ...     ...  ...   ...     ...      ...  ..  ..  ..\n",
            "390     MS   M   20       U     LE3       A  ...     5       4       11   9   9   9\n",
            "391     MS   M   17       U     LE3       T  ...     4       2        3  14  16  16\n",
            "392     MS   M   21       R     GT3       T  ...     3       3        3  10   8   7\n",
            "393     MS   M   18       R     LE3       T  ...     4       5        0  11  12  10\n",
            "394     MS   M   19       U     LE3       T  ...     3       5        5   8   9   9\n",
            "\n",
            "[395 rows x 33 columns]>\n"
          ],
          "name": "stdout"
        }
      ]
    },
    {
      "cell_type": "code",
      "metadata": {
        "colab": {
          "base_uri": "https://localhost:8080/"
        },
        "id": "gBcQpqKIvC55",
        "outputId": "1176be6d-9243-48bd-a845-b3df28bee798"
      },
      "source": [
        "print(list(df.columns))"
      ],
      "execution_count": 29,
      "outputs": [
        {
          "output_type": "stream",
          "text": [
            "['school', 'sex', 'age', 'address', 'famsize', 'Pstatus', 'Medu', 'Fedu', 'Mjob', 'Fjob', 'reason', 'guardian', 'traveltime', 'studytime', 'failures', 'schoolsup', 'famsup', 'paid', 'activities', 'nursery', 'higher', 'internet', 'romantic', 'famrel', 'freetime', 'goout', 'Dalc', 'Walc', 'health', 'absences', 'G1', 'G2', 'G3']\n"
          ],
          "name": "stdout"
        }
      ]
    },
    {
      "cell_type": "code",
      "metadata": {
        "colab": {
          "base_uri": "https://localhost:8080/"
        },
        "id": "8Z6ES8RwvSJo",
        "outputId": "0bb8523e-2eb8-4b23-c11e-8432a66f3067"
      },
      "source": [
        "data=df[['G1','G2','G3','studytime','failures','absences']]\n",
        "print(data.columns)"
      ],
      "execution_count": 30,
      "outputs": [
        {
          "output_type": "stream",
          "text": [
            "Index(['G1', 'G2', 'G3', 'studytime', 'failures', 'absences'], dtype='object')\n"
          ],
          "name": "stdout"
        }
      ]
    },
    {
      "cell_type": "code",
      "metadata": {
        "colab": {
          "base_uri": "https://localhost:8080/"
        },
        "id": "ElzGh1_kvr9w",
        "outputId": "a934b0d2-1eb5-44ec-ea8c-755d18e752db"
      },
      "source": [
        "import numpy as np\n",
        "target='G3'\n",
        "x=np.array(data.drop([target],axis=1))\n",
        "y=np.array(data[target])\n",
        "print(x)\n",
        "print(y)"
      ],
      "execution_count": 31,
      "outputs": [
        {
          "output_type": "stream",
          "text": [
            "[[ 5  6  2  0  6]\n",
            " [ 5  5  2  0  4]\n",
            " [ 7  8  2  3 10]\n",
            " ...\n",
            " [10  8  1  3  3]\n",
            " [11 12  1  0  0]\n",
            " [ 8  9  1  0  5]]\n",
            "[ 6  6 10 15 10 15 11  6 19 15  9 12 14 11 16 14 14 10  5 10 15 15 16 12\n",
            "  8  8 11 15 11 11 12 17 16 12 15  6 18 15 11 13 11 12 18 11  9  6 11 20\n",
            " 14  7 13 13 10 11 13 10 15 15  9 16 11 11  9  9 10 15 12  6  8 16 15 10\n",
            "  5 14 11 10 10 11 10  5 12 11  6 15 10  8  6 14 10  7  8 18  6 10 14 10\n",
            " 15 10 14  8  5 17 14  6 18 11  8 18 13 16 19 10 13 19  9 16 14 13  8 13\n",
            " 15 15 13 13  8 12 11  9  0 18  0  0 12 11  0  0  0  0 12 15  0  9 11 13\n",
            "  0 11  0 11  0 10  0 14 10  0 12  8 13 10 15 12  0  7  0 10  7 12 10 16\n",
            "  0 14  0 16 10  0  9  9 11  6  9 11  8 12 17  8 12 11 11 15  9 10 13  9\n",
            "  8 10 14 15 16 10 18 10 16 10 10  6 11  9  7 13 10  7  8 13 14  8 10 15\n",
            "  4  8  8 10  6  0 17 13 14  7 15 12  9 12 14 11  9 13  6 10 13 12 11  0\n",
            " 12 12  0 12  0 18 13  8  5 15  8 10  8  8 12  8 13 11 14  0 18  8 12  9\n",
            "  0 17 10 11 10  0  9 14 11 14 10 12  9  9  8 10  8 10 12 10 11 11 19 12\n",
            " 14 15 11 15 13 18 14 11  0  8 14 16 11 10 14 18 13 12 18  8 12 10  0 13\n",
            " 11 11 13 11  0  9 10 11 13  9 11 15 15 11 16 10  9 14  8 14  0  0  0 15\n",
            " 13  0 17 10 11  0 15  0 10 14 16  9 15 13  8 13  8  8 11  9 13 11 10 16\n",
            " 13 12 10 15 12 10 13  0 10 11  9 12 11  5 19 10 15 10 15 10 14  7 10  0\n",
            "  5 10  6  0  8  0  9 16  7 10  9]\n"
          ],
          "name": "stdout"
        }
      ]
    },
    {
      "cell_type": "code",
      "metadata": {
        "id": "XkqTeIeVxKYb"
      },
      "source": [
        "import sklearn\n",
        "from sklearn import linear_model\n",
        "from sklearn.utils import shuffle\n",
        "x_train,x_test,y_train,y_test=sklearn.model_selection.train_test_split(x,y,test_size=0.1)"
      ],
      "execution_count": 32,
      "outputs": []
    },
    {
      "cell_type": "code",
      "metadata": {
        "colab": {
          "base_uri": "https://localhost:8080/"
        },
        "id": "evCZWWhpyL5v",
        "outputId": "4ca71f91-8409-4474-f359-558af16e9fc1"
      },
      "source": [
        "linear=linear_model.LinearRegression()\n",
        "linear.fit(x_train,y_train)"
      ],
      "execution_count": 33,
      "outputs": [
        {
          "output_type": "execute_result",
          "data": {
            "text/plain": [
              "LinearRegression(copy_X=True, fit_intercept=True, n_jobs=None, normalize=False)"
            ]
          },
          "metadata": {
            "tags": []
          },
          "execution_count": 33
        }
      ]
    },
    {
      "cell_type": "code",
      "metadata": {
        "colab": {
          "base_uri": "https://localhost:8080/"
        },
        "id": "F4qbFdlDybqc",
        "outputId": "7c46eca6-c0d8-4bdd-a261-668a4af6685e"
      },
      "source": [
        "accuracy=linear.score(x_test,y_test)\n",
        "print(accuracy)"
      ],
      "execution_count": 34,
      "outputs": [
        {
          "output_type": "stream",
          "text": [
            "0.865833754694218\n"
          ],
          "name": "stdout"
        }
      ]
    },
    {
      "cell_type": "code",
      "metadata": {
        "colab": {
          "base_uri": "https://localhost:8080/"
        },
        "id": "USijL1q9ym0K",
        "outputId": "86c2869b-e79b-430c-bb24-aec1dcf9be8c"
      },
      "source": [
        "print('Coefficient: \\n', linear.coef_) \n",
        "print('Intercept: \\n', linear.intercept_) "
      ],
      "execution_count": 35,
      "outputs": [
        {
          "output_type": "stream",
          "text": [
            "Coefficient: \n",
            " [ 0.17921149  0.96909496 -0.20772726 -0.3173718   0.04465873]\n",
            "Intercept: \n",
            " -1.7072102363948503\n"
          ],
          "name": "stdout"
        }
      ]
    },
    {
      "cell_type": "code",
      "metadata": {
        "colab": {
          "base_uri": "https://localhost:8080/"
        },
        "id": "J88GFFvRzor0",
        "outputId": "2b6198e9-2842-49e4-a2b6-27df44376bc1"
      },
      "source": [
        "test_prediction=linear.predict(x_test)\n",
        "for i in range(len(test_prediction)):\n",
        "  print(test_prediction[i],x_test[i],y_test[i])\n",
        "  print(\"The difference is \",test_prediction[i]-y_test[i],'\\n')"
      ],
      "execution_count": 36,
      "outputs": [
        {
          "output_type": "stream",
          "text": [
            "16.339555858835933 [16 16  2  0  2] 16\n",
            "The difference is  0.33955585883593287 \n",
            "\n",
            "14.222154456376115 [15 14  2  0  2] 14\n",
            "The difference is  0.2221544563761153 \n",
            "\n",
            "5.186658639089128 [7 7 2 3 5] 7\n",
            "The difference is  -1.8133413609108722 \n",
            "\n",
            "19.458338156180332 [19 19  4  0  4] 20\n",
            "The difference is  -0.5416618438196679 \n",
            "\n",
            "12.057925111556095 [14 11  1  0 18] 13\n",
            "The difference is  -0.942074888443905 \n",
            "\n",
            "14.250670222097146 [14 14  1  0  2] 13\n",
            "The difference is  1.2506702220971455 \n",
            "\n",
            "13.134073164715359 [14 13  3  0  8] 14\n",
            "The difference is  -0.8659268352846414 \n",
            "\n",
            "8.21151671723249 [8 9 2 0 4] 10\n",
            "The difference is  -1.7884832827675101 \n",
            "\n",
            "16.457389094415046 [15 16  1  0  4] 15\n",
            "The difference is  1.4573890944150456 \n",
            "\n",
            "6.849706249145173 [ 9  7  2  1 20] 8\n",
            "The difference is  -1.1502937508548268 \n",
            "\n",
            "8.777090401715077 [9 9 1 0 8] 10\n",
            "The difference is  -1.2229095982849234 \n",
            "\n",
            "8.27289497117608 [10  9  3  0  2] 9\n",
            "The difference is  -0.7271050288239191 \n",
            "\n",
            "9.35982316322375 [ 9 10  2  0  4] 10\n",
            "The difference is  -0.6401768367762504 \n",
            "\n",
            "13.83246995437198 [13 13  2  0 23] 13\n",
            "The difference is  0.8324699543719802 \n",
            "\n",
            "6.088778105931875 [ 6  7  2  1 15] 8\n",
            "The difference is  -1.9112218940681247 \n",
            "\n",
            "9.152672457786561 [10 10  3  0  0] 9\n",
            "The difference is  0.15267245778656147 \n",
            "\n",
            "9.209703989228622 [ 8 10  1  0  0] 11\n",
            "The difference is  -1.7902960107713781 \n",
            "\n",
            "14.922720453463896 [14 15  2  0  0] 15\n",
            "The difference is  -0.07727954653610425 \n",
            "\n",
            "9.44971718288837 [10 10  2  0  2] 10\n",
            "The difference is  -0.5502828171116292 \n",
            "\n",
            "6.595719293708575 [6 8 1 1 0] 8\n",
            "The difference is  -1.4042807062914253 \n",
            "\n",
            "4.855914849116787 [5 6 2 0 6] 6\n",
            "The difference is  -1.144085150883213 \n",
            "\n",
            "8.21151671723249 [8 9 2 0 4] 10\n",
            "The difference is  -1.7884832827675101 \n",
            "\n",
            "19.111848415636423 [18 18  1  0  8] 18\n",
            "The difference is  1.1118484156364232 \n",
            "\n",
            "9.38833892894478 [ 8 10  1  0  4] 10\n",
            "The difference is  -0.6116610710552202 \n",
            "\n",
            "4.318417372343697 [6 5 1 0 7] 6\n",
            "The difference is  -1.6815826276563026 \n",
            "\n",
            "15.17830006652511 [16 15  4  0  7] 17\n",
            "The difference is  -1.8216999334748891 \n",
            "\n",
            "12.894636520862154 [13 13  2  0  2] 11\n",
            "The difference is  1.8946365208621536 \n",
            "\n",
            "4.580170770893677 [8 6 2 2 2] 5\n",
            "The difference is  -0.41982922910632325 \n",
            "\n",
            "13.924533181467764 [14 14  3  0  4] 14\n",
            "The difference is  -0.07546681853223625 \n",
            "\n",
            "18.562417700361845 [18 18  3  0  5] 19\n",
            "The difference is  -0.4375822996381551 \n",
            "\n",
            "9.18061167370105 [ 8 10  2  0  4] 10\n",
            "The difference is  -0.8193883262989505 \n",
            "\n",
            "8.212093267039032 [9 9 2 0 0] 10\n",
            "The difference is  -1.787906732960968 \n",
            "\n",
            "12.055333659953002 [14 12  2  1  8] 12\n",
            "The difference is  0.05533365995300166 \n",
            "\n",
            "12.597591795760344 [13 13  3  0  0] 14\n",
            "The difference is  -1.4024082042396557 \n",
            "\n",
            "5.459371707697614 [7 7 2 2 4] 9\n",
            "The difference is  -3.5406282923023857 \n",
            "\n",
            "10.894491804174898 [10 11  1  0  8] 10\n",
            "The difference is  0.8944918041748977 \n",
            "\n",
            "11.740709876239682 [10  9  2  0 75] 9\n",
            "The difference is  2.7407098762396824 \n",
            "\n",
            "8.480045676613269 [9 9 2 0 6] 10\n",
            "The difference is  -1.519954323386731 \n",
            "\n",
            "6.107512526742974 [ 7  6  2  0 26] 6\n",
            "The difference is  0.1075125267429744 \n",
            "\n",
            "3.3003425799233774 [3 5 2 1 8] 5\n",
            "The difference is  -1.6996574200766226 \n",
            "\n"
          ],
          "name": "stdout"
        }
      ]
    },
    {
      "cell_type": "code",
      "metadata": {
        "colab": {
          "base_uri": "https://localhost:8080/"
        },
        "id": "RGxR6_U_0WXA",
        "outputId": "0a477876-ea18-4a54-ae68-bd3e1c44f1a5"
      },
      "source": [
        "import pickle\n",
        "best=accuracy\n",
        "with open('studentgrades.pickle','wb') as f:\n",
        "  pickle.dump(linear,f)\n",
        "for _ in range(30):\n",
        "  x_train,x_test,y_train,y_test=sklearn.model_selection.train_test_split(x,y,test_size=0.1)\n",
        "  linear=linear_model.LinearRegression()\n",
        "  linear.fit(x_train,y_train)\n",
        "  current=linear.score(x_test,y_test)\n",
        "  if current>best:\n",
        "    best=current\n",
        "    with open('studentgrades.pickle','wb') as f:\n",
        "      pickle.dump(linear,f)\n",
        "print(\"Maximum Possible accuracy is\",best)"
      ],
      "execution_count": 39,
      "outputs": [
        {
          "output_type": "stream",
          "text": [
            "Maximum Possible accuracy is 0.9409063272737656\n"
          ],
          "name": "stdout"
        }
      ]
    },
    {
      "cell_type": "code",
      "metadata": {
        "colab": {
          "base_uri": "https://localhost:8080/"
        },
        "id": "F5aT7RXW1LTQ",
        "outputId": "9ddebc04-22fe-4598-b6d2-f9022125abea"
      },
      "source": [
        "print(\"Linear Regression Model Successfully Implemented\")"
      ],
      "execution_count": 40,
      "outputs": [
        {
          "output_type": "stream",
          "text": [
            "Linear Regression Model Successfully Implemented\n"
          ],
          "name": "stdout"
        }
      ]
    }
  ]
}